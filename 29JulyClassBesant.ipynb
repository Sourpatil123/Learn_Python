{
  "nbformat": 4,
  "nbformat_minor": 0,
  "metadata": {
    "colab": {
      "provenance": [],
      "authorship_tag": "ABX9TyPJhKNkj0Lx8eM0lHTazyIE",
      "include_colab_link": true
    },
    "kernelspec": {
      "name": "python3",
      "display_name": "Python 3"
    },
    "language_info": {
      "name": "python"
    }
  },
  "cells": [
    {
      "cell_type": "markdown",
      "metadata": {
        "id": "view-in-github",
        "colab_type": "text"
      },
      "source": [
        "<a href=\"https://colab.research.google.com/github/Sourpatil123/Learn_Python/blob/main/29JulyClassBesant.ipynb\" target=\"_parent\"><img src=\"https://colab.research.google.com/assets/colab-badge.svg\" alt=\"Open In Colab\"/></a>"
      ]
    },
    {
      "cell_type": "code",
      "execution_count": 16,
      "metadata": {
        "colab": {
          "base_uri": "https://localhost:8080/"
        },
        "id": "AeQ9EN88rMjQ",
        "outputId": "c01a7ef9-da73-4cc9-fe75-866659acffee"
      },
      "outputs": [
        {
          "output_type": "stream",
          "name": "stdout",
          "text": [
            "2\n",
            "3\n",
            "5\n",
            "7\n",
            "11\n",
            "13\n"
          ]
        }
      ],
      "source": [
        "n = 15\n",
        "for i in range(2,n,1 ):\n",
        "  count  = 0\n",
        "  for j in range(2,i,1):\n",
        "    if(i % j == 0):\n",
        "      count += 1\n",
        "    else:\n",
        "      count = count\n",
        "\n",
        "  if(count == 0):\n",
        "    print(i)\n",
        "\n",
        ""
      ]
    },
    {
      "cell_type": "code",
      "source": [
        "for i in range(1,100,1):\n",
        "  if(i == 6):\n",
        "    break;\n",
        "  else:\n",
        "    print(i)"
      ],
      "metadata": {
        "colab": {
          "base_uri": "https://localhost:8080/"
        },
        "id": "ES08Iw-QrXOR",
        "outputId": "53322719-a159-4d54-8677-1b3420f55618"
      },
      "execution_count": 17,
      "outputs": [
        {
          "output_type": "stream",
          "name": "stdout",
          "text": [
            "1\n",
            "2\n",
            "3\n",
            "4\n",
            "5\n"
          ]
        }
      ]
    },
    {
      "cell_type": "code",
      "source": [
        "for i in range(2,51,1 ):\n",
        "  for j in range(2,i,1):\n",
        "    if(n % i == 0):\n",
        "      break\n",
        "  else:\n",
        "    print(i)\n",
        "\n",
        "\n",
        "\n",
        "\n",
        ""
      ],
      "metadata": {
        "colab": {
          "base_uri": "https://localhost:8080/"
        },
        "id": "JevDmEtZw5EU",
        "outputId": "85349b32-163a-4549-c0af-b6b666edc4e2"
      },
      "execution_count": 26,
      "outputs": [
        {
          "output_type": "stream",
          "name": "stdout",
          "text": [
            "2\n",
            "4\n",
            "6\n",
            "7\n",
            "8\n",
            "9\n",
            "10\n",
            "11\n",
            "12\n",
            "13\n",
            "14\n",
            "16\n",
            "17\n",
            "18\n",
            "19\n",
            "20\n",
            "21\n",
            "22\n",
            "23\n",
            "24\n",
            "25\n",
            "26\n",
            "27\n",
            "28\n",
            "29\n",
            "30\n",
            "31\n",
            "32\n",
            "33\n",
            "34\n",
            "35\n",
            "36\n",
            "37\n",
            "38\n",
            "39\n",
            "40\n",
            "41\n",
            "42\n",
            "43\n",
            "44\n",
            "45\n",
            "46\n",
            "47\n",
            "48\n",
            "49\n",
            "50\n"
          ]
        }
      ]
    },
    {
      "cell_type": "code",
      "source": [
        "from os import name\n",
        "# its set of code or block of code which is used to perform a specific task is called functions.    set of rules, pre defined code, pre compiled code\n",
        "#syntax of function:\n",
        "# function name\n",
        "# parameters\n",
        "# return type\n",
        "\n",
        "# Types of function\n",
        "\n",
        "# 1. built-in functions - length,input,enumerate,print\n",
        "\n",
        "# 2. user defined function\n",
        "# Syntax :\n",
        "\n",
        "# def fun-name(parameters):\n",
        "#   bolck of code\n",
        "\n",
        "#   return\n",
        "\n",
        "# methods of creating user defined function\n",
        "\n",
        "# 1. function without i/p and without return\n",
        "\n",
        "# syntax :\n",
        "# def fun_name():\n",
        "#   block of code\n",
        "\n",
        "# 2. function with i/p and without return\n",
        "\n",
        "# def fun_name(input/parameters):\n",
        "#   block of code\n",
        "\n",
        "\n",
        "# 3. function without i/p and with return\n",
        "\n",
        "# def func_name():\n",
        "#   block of code\n",
        "#   return value    var = func_name()\n",
        "\n",
        "\n",
        "# 4. function with i/p and with o/p return\n",
        "\n",
        "# def func_name(parameters):\n",
        "#   block of code\n",
        "#   return  value\n",
        "\n"
      ],
      "metadata": {
        "id": "_SObMkRJze_r"
      },
      "execution_count": null,
      "outputs": []
    }
  ]
}