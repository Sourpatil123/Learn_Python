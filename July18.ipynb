{
  "nbformat": 4,
  "nbformat_minor": 0,
  "metadata": {
    "colab": {
      "provenance": [],
      "authorship_tag": "ABX9TyNeC0WfkhbBGahd50VgZmTe",
      "include_colab_link": true
    },
    "kernelspec": {
      "name": "python3",
      "display_name": "Python 3"
    },
    "language_info": {
      "name": "python"
    }
  },
  "cells": [
    {
      "cell_type": "markdown",
      "metadata": {
        "id": "view-in-github",
        "colab_type": "text"
      },
      "source": [
        "<a href=\"https://colab.research.google.com/github/Sourpatil123/Learn_Python/blob/main/July18.ipynb\" target=\"_parent\"><img src=\"https://colab.research.google.com/assets/colab-badge.svg\" alt=\"Open In Colab\"/></a>"
      ]
    },
    {
      "cell_type": "code",
      "execution_count": null,
      "metadata": {
        "colab": {
          "base_uri": "https://localhost:8080/"
        },
        "id": "Q4mapDHAcr0w",
        "outputId": "fb365e35-1d36-48b1-b64f-50c2d69c1aae"
      },
      "outputs": [
        {
          "output_type": "execute_result",
          "data": {
            "text/plain": [
              "False"
            ]
          },
          "metadata": {},
          "execution_count": 1
        }
      ],
      "source": [
        "#membership operator :\n",
        "#in not in\n",
        "l1 = [4,7,1,8,9]\n",
        "5 in l1"
      ]
    },
    {
      "cell_type": "code",
      "source": [
        "#identity operator\n",
        "#is is not\n",
        "a = 6\n",
        "b = 8\n",
        "#a is b\n",
        "a is not b"
      ],
      "metadata": {
        "colab": {
          "base_uri": "https://localhost:8080/"
        },
        "id": "vLMuRUPMdPcM",
        "outputId": "da14eeab-bcc0-45b1-9871-9f5844bf8129"
      },
      "execution_count": null,
      "outputs": [
        {
          "output_type": "execute_result",
          "data": {
            "text/plain": [
              "True"
            ]
          },
          "metadata": {},
          "execution_count": 2
        }
      ]
    },
    {
      "cell_type": "code",
      "source": [
        "# Conditional Statement\n",
        "# if\n",
        "# waptf eligibility to vote\n",
        "age = int(input(\"enter age\"))\n",
        "if(age >= 18):\n",
        "  print(\"eligiblae for vote\")"
      ],
      "metadata": {
        "colab": {
          "base_uri": "https://localhost:8080/"
        },
        "id": "tVubRFP3ePSV",
        "outputId": "a1cab525-b20e-464b-9fc1-92637c75857b"
      },
      "execution_count": null,
      "outputs": [
        {
          "output_type": "stream",
          "name": "stdout",
          "text": [
            "enter age20\n",
            "eligiblae for vote\n"
          ]
        }
      ]
    },
    {
      "cell_type": "code",
      "source": [],
      "metadata": {
        "id": "2gBt5sTxurzx"
      },
      "execution_count": null,
      "outputs": []
    },
    {
      "cell_type": "code",
      "source": [
        "# if-else\n",
        "# waptf eligibility to vote\n",
        "age = int(input(\"enter age\"))\n",
        "if(age >= 18):\n",
        "  print(\"eligiblae for vote\")\n",
        "else:\n",
        "  print(\"not eligible\")"
      ],
      "metadata": {
        "colab": {
          "base_uri": "https://localhost:8080/"
        },
        "id": "8Pkz30g_no8I",
        "outputId": "460111b7-c0ef-445c-e5eb-92412109fe55"
      },
      "execution_count": null,
      "outputs": [
        {
          "output_type": "stream",
          "name": "stdout",
          "text": [
            "enter age15\n",
            "not eligible\n"
          ]
        }
      ]
    },
    {
      "cell_type": "code",
      "source": [
        "#waptf odd or even number\n",
        "num = int(input(\"enter number\"))\n",
        "if(num % 2 == 0):\n",
        "  print(num, \" is even\")\n",
        "else:\n",
        "  print(num, \" is odd number\")"
      ],
      "metadata": {
        "colab": {
          "base_uri": "https://localhost:8080/"
        },
        "id": "Hd4N7xZCoFFT",
        "outputId": "d1050e6c-acaf-471a-f3be-dd3ad9da64d7"
      },
      "execution_count": null,
      "outputs": [
        {
          "output_type": "stream",
          "name": "stdout",
          "text": [
            "enter number4\n",
            "4  is even\n"
          ]
        }
      ]
    },
    {
      "cell_type": "code",
      "source": [
        "percentage = float(input(\"enter percentage\"))\n",
        "nationality = input(\"enter nationality\")\n",
        "if(percentage >= 60 and nationality == \"indian\"):\n",
        "  print(\"eligible\")\n",
        "else:\n",
        "  print(\"not eligible\")\n"
      ],
      "metadata": {
        "colab": {
          "base_uri": "https://localhost:8080/"
        },
        "id": "0XFp5huqpiuC",
        "outputId": "c836aeeb-a7d2-4a17-890f-e630307d0f06"
      },
      "execution_count": null,
      "outputs": [
        {
          "output_type": "stream",
          "name": "stdout",
          "text": [
            "enter percentage65\n",
            "enter nationalityindian\n",
            "eligible\n"
          ]
        }
      ]
    },
    {
      "cell_type": "code",
      "source": [
        "#check the given number is positive, negative, zero\n",
        "num = int(input(\"enter number\"))\n",
        "if(num > 0):\n",
        "  print(\"Positive\")\n",
        "elif(num < 0):\n",
        "  print(\"negative\")\n",
        "else:\n",
        "  print(\"zero\")"
      ],
      "metadata": {
        "colab": {
          "base_uri": "https://localhost:8080/"
        },
        "id": "QogpEWi8sFKx",
        "outputId": "a681b002-aa19-4b5b-b84f-371324dcac8a"
      },
      "execution_count": null,
      "outputs": [
        {
          "output_type": "stream",
          "name": "stdout",
          "text": [
            "enter number0\n",
            "zero\n"
          ]
        }
      ]
    }
  ]
}