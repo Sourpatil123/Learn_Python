{
  "nbformat": 4,
  "nbformat_minor": 0,
  "metadata": {
    "colab": {
      "provenance": [],
      "authorship_tag": "ABX9TyPfHlPrx0ZT5xiH6prIYZNg",
      "include_colab_link": true
    },
    "kernelspec": {
      "name": "python3",
      "display_name": "Python 3"
    },
    "language_info": {
      "name": "python"
    }
  },
  "cells": [
    {
      "cell_type": "markdown",
      "metadata": {
        "id": "view-in-github",
        "colab_type": "text"
      },
      "source": [
        "<a href=\"https://colab.research.google.com/github/Sourpatil123/Learn_Python/blob/main/25JulyBesantClass.ipynb\" target=\"_parent\"><img src=\"https://colab.research.google.com/assets/colab-badge.svg\" alt=\"Open In Colab\"/></a>"
      ]
    },
    {
      "cell_type": "code",
      "execution_count": 4,
      "metadata": {
        "colab": {
          "base_uri": "https://localhost:8080/"
        },
        "id": "cjk2nv8bn2en",
        "outputId": "7dde270a-b728-450d-9cbd-a8264158e381"
      },
      "outputs": [
        {
          "output_type": "stream",
          "name": "stdout",
          "text": [
            "i =  1\n",
            "1\t2\t3\t4\t5\t\n",
            "i =  2\n",
            "2\t4\t6\t8\t10\t\n",
            "i =  3\n",
            "3\t6\t9\t12\t15\t\n",
            "i =  4\n",
            "4\t8\t12\t16\t20\t\n",
            "i =  5\n",
            "5\t10\t15\t20\t25\t\n",
            "i =  6\n",
            "6\t12\t18\t24\t30\t\n",
            "i =  7\n",
            "7\t14\t21\t28\t35\t\n",
            "i =  8\n",
            "8\t16\t24\t32\t40\t\n",
            "i =  9\n",
            "9\t18\t27\t36\t45\t\n"
          ]
        }
      ],
      "source": [
        "# write a program to print single table 1 to 5\n",
        "\n",
        "for i in range(1, 10, 1):\n",
        "  print(\"i = \" , i)\n",
        "  for j in range(1, 6, 1):\n",
        "    print(i*j, end= \"\\t\")\n",
        "  print()\n",
        ""
      ]
    },
    {
      "cell_type": "code",
      "source": [
        "\n",
        "for i in range(1,6,1):\n",
        "  for j in range(1,6,1):\n",
        "    if((i*j) % 2 == 0):\n",
        "      print(i*j, end =\"\\t\")\n",
        "    else:\n",
        "      print(\" \", end=\"\\t\")\n",
        "\n",
        "  print()"
      ],
      "metadata": {
        "colab": {
          "base_uri": "https://localhost:8080/"
        },
        "id": "WWt8Dhox9kzf",
        "outputId": "4c3e5423-4d87-4aff-c3ba-461aecb3862b"
      },
      "execution_count": 19,
      "outputs": [
        {
          "output_type": "stream",
          "name": "stdout",
          "text": [
            " \t2\t \t4\t \t\n",
            "2\t4\t6\t8\t10\t\n",
            " \t6\t \t12\t \t\n",
            "4\t8\t12\t16\t20\t\n",
            " \t10\t \t20\t \t\n"
          ]
        }
      ]
    },
    {
      "cell_type": "code",
      "source": [
        "for i in range(1,6,1):\n",
        "  for j in range(5,i,-1):\n",
        "    print(\" \", end=\"\")\n",
        "  for k in range(1, i+1,1):\n",
        "    print(\"*\", end=\" \")\n",
        "  print()"
      ],
      "metadata": {
        "colab": {
          "base_uri": "https://localhost:8080/"
        },
        "id": "6qAu1GuFCNwO",
        "outputId": "8b6a1c05-86a1-455c-9a10-58d283f570ba"
      },
      "execution_count": 21,
      "outputs": [
        {
          "output_type": "stream",
          "name": "stdout",
          "text": [
            "    * \n",
            "   * * \n",
            "  * * * \n",
            " * * * * \n",
            "* * * * * \n"
          ]
        }
      ]
    },
    {
      "cell_type": "code",
      "source": [
        "# nested while loop\n",
        "\n",
        "# while(cond of outer loop):\n",
        "#   inta inner loop\n",
        "#   while(cond of inner loop):\n",
        "#     statement of outer loop\n",
        "#     inc/dec inner loop\n",
        "#   statement of iouter loop\n",
        "#   inc/dec outer loop"
      ],
      "metadata": {
        "id": "y2Cw5E0rDAvF"
      },
      "execution_count": null,
      "outputs": []
    },
    {
      "cell_type": "code",
      "source": [
        "i = 1\n",
        "while(i <= 5):\n",
        "  j = 1\n",
        "  while(j <= i):\n",
        "    print(j, end=\" \")\n",
        "    j += 1\n",
        "  print()\n",
        "  i += 1"
      ],
      "metadata": {
        "colab": {
          "base_uri": "https://localhost:8080/"
        },
        "id": "Tzcedbj3Deqa",
        "outputId": "d4115be8-68c1-4df4-d514-9bede8612fb4"
      },
      "execution_count": 22,
      "outputs": [
        {
          "output_type": "stream",
          "name": "stdout",
          "text": [
            "1 \n",
            "1 2 \n",
            "1 2 3 \n",
            "1 2 3 4 \n",
            "1 2 3 4 5 \n"
          ]
        }
      ]
    }
  ]
}