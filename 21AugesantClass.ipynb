{
  "nbformat": 4,
  "nbformat_minor": 0,
  "metadata": {
    "colab": {
      "provenance": [],
      "authorship_tag": "ABX9TyNIfWjqNkzN6YDLSc8v2Wpu",
      "include_colab_link": true
    },
    "kernelspec": {
      "name": "python3",
      "display_name": "Python 3"
    },
    "language_info": {
      "name": "python"
    }
  },
  "cells": [
    {
      "cell_type": "markdown",
      "metadata": {
        "id": "view-in-github",
        "colab_type": "text"
      },
      "source": [
        "<a href=\"https://colab.research.google.com/github/Sourpatil123/Learn_Python/blob/main/21AugesantClass.ipynb\" target=\"_parent\"><img src=\"https://colab.research.google.com/assets/colab-badge.svg\" alt=\"Open In Colab\"/></a>"
      ]
    },
    {
      "cell_type": "code",
      "execution_count": null,
      "metadata": {
        "id": "7c7pl9YDIDMX"
      },
      "outputs": [],
      "source": [
        "# libraries : function, attributes\n",
        "# pandas : data manipulation and data visualization\n",
        "# numpy : numerical python any methamatical or array operation we perform\n",
        "\n",
        "# scipy : scientific python\n",
        "# for advance level maths calculation we are using scipy\n",
        "\n",
        "# matplotlib : data visualization\n",
        "# seaborn : data visualization\n",
        "# plotly : data visualization\n",
        "# bokeh : data visualization\n",
        "# sklearn(scikit - learn) : machine learning\n",
        "# keras\n",
        "# tensorflow\n",
        "# pytorch\n"
      ]
    }
  ]
}