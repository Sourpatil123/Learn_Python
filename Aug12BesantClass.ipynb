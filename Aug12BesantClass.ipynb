{
  "nbformat": 4,
  "nbformat_minor": 0,
  "metadata": {
    "colab": {
      "provenance": [],
      "authorship_tag": "ABX9TyPBikWnFA6+0qpQEVgnUk+T",
      "include_colab_link": true
    },
    "kernelspec": {
      "name": "python3",
      "display_name": "Python 3"
    },
    "language_info": {
      "name": "python"
    }
  },
  "cells": [
    {
      "cell_type": "markdown",
      "metadata": {
        "id": "view-in-github",
        "colab_type": "text"
      },
      "source": [
        "<a href=\"https://colab.research.google.com/github/Sourpatil123/Learn_Python/blob/main/Aug12BesantClass.ipynb\" target=\"_parent\"><img src=\"https://colab.research.google.com/assets/colab-badge.svg\" alt=\"Open In Colab\"/></a>"
      ]
    },
    {
      "cell_type": "code",
      "execution_count": 2,
      "metadata": {
        "colab": {
          "base_uri": "https://localhost:8080/"
        },
        "id": "DebjowOrxnUn",
        "outputId": "4f3e7408-09a6-4252-b53b-2e08e1ef8e66"
      },
      "outputs": [
        {
          "output_type": "execute_result",
          "data": {
            "text/plain": [
              "[1, 2, 3, 4, 5, 6, 7, 8, 9, 10, 11, 12, 13, 14, 15, 16, 17, 18, 19, 20]"
            ]
          },
          "metadata": {},
          "execution_count": 2
        }
      ],
      "source": [
        "l1 = []\n",
        "for i in range(1,21):\n",
        "  l1.append(i)\n",
        "\n",
        "l1\n",
        "\n"
      ]
    },
    {
      "cell_type": "code",
      "source": [
        "naturalal = []\n",
        "even = []\n",
        "odd = []\n",
        "prime = []\n",
        "\n",
        "for i in range(0,21,1):\n",
        "  naturalal.append(i)\n",
        "  if i % 2 == 0:\n",
        "    even.append(i)\n",
        "  else:\n",
        "    odd.append(i)\n",
        "\n",
        "  for j in range(2,i,1):\n",
        "    if i % j == 0:\n",
        "      break\n",
        "    else:\n",
        "     prime.append(i)\n",
        "\n",
        "print(naturalal)\n",
        "print(even)\n",
        "print(odd)\n",
        "print(prime)\n",
        "\n"
      ],
      "metadata": {
        "colab": {
          "base_uri": "https://localhost:8080/"
        },
        "id": "Io4yeRML2AtB",
        "outputId": "153d3466-576b-436a-c845-19d3978b13a1"
      },
      "execution_count": 9,
      "outputs": [
        {
          "output_type": "stream",
          "name": "stdout",
          "text": [
            "[0, 1, 2, 3, 4, 5, 6, 7, 8, 9, 10, 11, 12, 13, 14, 15, 16, 17, 18, 19, 20]\n",
            "[0, 2, 4, 6, 8, 10, 12, 14, 16, 18, 20]\n",
            "[1, 3, 5, 7, 9, 11, 13, 15, 17, 19]\n",
            "[3, 5, 5, 5, 7, 7, 7, 7, 7, 9, 11, 11, 11, 11, 11, 11, 11, 11, 11, 13, 13, 13, 13, 13, 13, 13, 13, 13, 13, 13, 15, 17, 17, 17, 17, 17, 17, 17, 17, 17, 17, 17, 17, 17, 17, 17, 19, 19, 19, 19, 19, 19, 19, 19, 19, 19, 19, 19, 19, 19, 19, 19, 19]\n"
          ]
        }
      ]
    },
    {
      "cell_type": "code",
      "source": [
        "#vowel list and consonent list\n",
        "str = 'sourabh'\n",
        "vowels = []\n",
        "consonets = []\n",
        "\n",
        "for i in str:\n",
        "  if i == 'a' or i == 'e' or i == 'i' or i == 'o'or i == 'u':\n",
        "    vowels.append(i)\n",
        "  else:\n",
        "    consonets.append(i)\n",
        "\n",
        "print(vowels)\n",
        "print(consonets)\n",
        ""
      ],
      "metadata": {
        "colab": {
          "base_uri": "https://localhost:8080/"
        },
        "id": "OC8oiFTx5idM",
        "outputId": "6ad9a28e-456f-4f5d-ccd0-a8f3a43b3400"
      },
      "execution_count": 14,
      "outputs": [
        {
          "output_type": "stream",
          "name": "stdout",
          "text": [
            "['o', 'u', 'a']\n",
            "['s', 'r', 'b', 'h']\n"
          ]
        }
      ]
    },
    {
      "cell_type": "code",
      "source": [
        "# list is ordered\n",
        "# list is mutable\n",
        "# list allows duplicates\n",
        "# hetrogeneous data"
      ],
      "metadata": {
        "id": "4F8QVwTy2ZPE"
      },
      "execution_count": null,
      "outputs": []
    },
    {
      "cell_type": "code",
      "source": [
        "# # Tuple\n",
        "# tuple is function\n",
        "# we initilize using ()"
      ],
      "metadata": {
        "id": "xYXqj_sa8Dfb"
      },
      "execution_count": null,
      "outputs": []
    },
    {
      "cell_type": "code",
      "source": [
        "t1 = (23,'mango',45.7,False,98)\n"
      ],
      "metadata": {
        "id": "Lg2Vu8Gs8YA8"
      },
      "execution_count": 15,
      "outputs": []
    },
    {
      "cell_type": "code",
      "source": [
        "t1[2]"
      ],
      "metadata": {
        "colab": {
          "base_uri": "https://localhost:8080/"
        },
        "id": "xceU5hFi82K7",
        "outputId": "155ce88d-cde1-43b6-e29c-763996e2ae34"
      },
      "execution_count": 16,
      "outputs": [
        {
          "output_type": "execute_result",
          "data": {
            "text/plain": [
              "45.7"
            ]
          },
          "metadata": {},
          "execution_count": 16
        }
      ]
    },
    {
      "cell_type": "code",
      "source": [
        "for i in t1:\n",
        "  print(i)"
      ],
      "metadata": {
        "colab": {
          "base_uri": "https://localhost:8080/"
        },
        "id": "yCdvM4Dp85Ly",
        "outputId": "ef22b779-7020-41c9-96d5-af68eecc8a5f"
      },
      "execution_count": 17,
      "outputs": [
        {
          "output_type": "stream",
          "name": "stdout",
          "text": [
            "23\n",
            "mango\n",
            "45.7\n",
            "False\n",
            "98\n"
          ]
        }
      ]
    },
    {
      "cell_type": "code",
      "source": [
        "# it is ordered\n",
        "# it is immutable\n",
        "# allow duplicates\n",
        "# hetrogeneous data"
      ],
      "metadata": {
        "colab": {
          "base_uri": "https://localhost:8080/",
          "height": 158
        },
        "id": "9IEQU4ix9MZk",
        "outputId": "69b9dacf-df2b-449c-90d9-ddff9871cdd1"
      },
      "execution_count": 18,
      "outputs": [
        {
          "output_type": "error",
          "ename": "TypeError",
          "evalue": "'tuple' object does not support item assignment",
          "traceback": [
            "\u001b[0;31m---------------------------------------------------------------------------\u001b[0m",
            "\u001b[0;31mTypeError\u001b[0m                                 Traceback (most recent call last)",
            "\u001b[0;32m/tmp/ipython-input-2731090601.py\u001b[0m in \u001b[0;36m<cell line: 0>\u001b[0;34m()\u001b[0m\n\u001b[0;32m----> 1\u001b[0;31m \u001b[0mt1\u001b[0m\u001b[0;34m[\u001b[0m\u001b[0;36m1\u001b[0m\u001b[0;34m]\u001b[0m \u001b[0;34m=\u001b[0m \u001b[0;34m'apple'\u001b[0m\u001b[0;34m\u001b[0m\u001b[0;34m\u001b[0m\u001b[0m\n\u001b[0m\u001b[1;32m      2\u001b[0m \u001b[0mt1\u001b[0m\u001b[0;34m\u001b[0m\u001b[0;34m\u001b[0m\u001b[0m\n",
            "\u001b[0;31mTypeError\u001b[0m: 'tuple' object does not support item assignment"
          ]
        }
      ]
    },
    {
      "cell_type": "code",
      "source": [],
      "metadata": {
        "id": "6W7mneM79RiR"
      },
      "execution_count": null,
      "outputs": []
    }
  ]
}