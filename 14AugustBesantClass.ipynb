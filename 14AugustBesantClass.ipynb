{
  "nbformat": 4,
  "nbformat_minor": 0,
  "metadata": {
    "colab": {
      "provenance": [],
      "authorship_tag": "ABX9TyN7cDZhMD11AoQ3rS3BLy4j",
      "include_colab_link": true
    },
    "kernelspec": {
      "name": "python3",
      "display_name": "Python 3"
    },
    "language_info": {
      "name": "python"
    }
  },
  "cells": [
    {
      "cell_type": "markdown",
      "metadata": {
        "id": "view-in-github",
        "colab_type": "text"
      },
      "source": [
        "<a href=\"https://colab.research.google.com/github/Sourpatil123/Learn_Python/blob/main/14AugustBesantClass.ipynb\" target=\"_parent\"><img src=\"https://colab.research.google.com/assets/colab-badge.svg\" alt=\"Open In Colab\"/></a>"
      ]
    },
    {
      "cell_type": "code",
      "execution_count": 1,
      "metadata": {
        "colab": {
          "base_uri": "https://localhost:8080/"
        },
        "id": "eMbz63nXVIvj",
        "outputId": "cf71728e-50a5-47ec-b1a1-783df8d37546"
      },
      "outputs": [
        {
          "output_type": "execute_result",
          "data": {
            "text/plain": [
              "[250, 400, 150, 800, 1200, 300]"
            ]
          },
          "metadata": {},
          "execution_count": 1
        }
      ],
      "source": [
        "sales = [250,400,150,800,1200,300]\n",
        "sales"
      ]
    },
    {
      "cell_type": "code",
      "source": [
        "total_sales = sum(sales)\n",
        "total_sales\n",
        "\n",
        "heighest_sale = max(sales)\n",
        "heighest_sale\n",
        "\n",
        "lowest_sales = min(sales)\n",
        "lowest_sales\n",
        "\n",
        "avg_sales = total_sales/len(sales)\n",
        "avg_sales"
      ],
      "metadata": {
        "colab": {
          "base_uri": "https://localhost:8080/"
        },
        "id": "bTz5OnsXVQCp",
        "outputId": "736f9d1d-6316-4f3a-d83e-03509a6428ac"
      },
      "execution_count": 7,
      "outputs": [
        {
          "output_type": "execute_result",
          "data": {
            "text/plain": [
              "516.6666666666666"
            ]
          },
          "metadata": {},
          "execution_count": 7
        }
      ]
    },
    {
      "cell_type": "code",
      "source": [
        "# remove duplicates without changing order\n",
        "\n",
        "cust = ['amit','priya','amit','kiran','priya']\n",
        "u_cust = []\n",
        "for i in cust:\n",
        "  if i not in u_cust:\n",
        "    u_cust.append(i)\n",
        "\n",
        "u_cust\n"
      ],
      "metadata": {
        "colab": {
          "base_uri": "https://localhost:8080/"
        },
        "id": "K2tc_Uo7XPXa",
        "outputId": "6fc873e3-46f7-4685-e515-71d7d36c56bc"
      },
      "execution_count": 8,
      "outputs": [
        {
          "output_type": "execute_result",
          "data": {
            "text/plain": [
              "['amit', 'priya', 'kiran']"
            ]
          },
          "metadata": {},
          "execution_count": 8
        }
      ]
    },
    {
      "cell_type": "code",
      "source": [
        "data = [1,2,2,3,4,4,5]\n",
        "\n",
        "u_val =[]\n",
        "for i in data:\n",
        "  if i not in u_val:\n",
        "    u_val.append(i)\n",
        "u_val"
      ],
      "metadata": {
        "colab": {
          "base_uri": "https://localhost:8080/"
        },
        "id": "KgN_kVthYS8Z",
        "outputId": "3c2aa449-4af9-42b0-8cce-b15610a1098c"
      },
      "execution_count": 10,
      "outputs": [
        {
          "output_type": "execute_result",
          "data": {
            "text/plain": [
              "[1, 2, 3, 4, 5]"
            ]
          },
          "metadata": {},
          "execution_count": 10
        }
      ]
    },
    {
      "cell_type": "code",
      "source": [
        "data = [1,2,2,3,4,4,5]\n",
        "d1 = set(data)\n",
        "d1\n",
        "list(d1)"
      ],
      "metadata": {
        "colab": {
          "base_uri": "https://localhost:8080/"
        },
        "id": "9PSP1eaGZdDQ",
        "outputId": "f5f19454-fff0-4b52-d7ca-9a50f10ef56c"
      },
      "execution_count": 12,
      "outputs": [
        {
          "output_type": "execute_result",
          "data": {
            "text/plain": [
              "[1, 2, 3, 4, 5]"
            ]
          },
          "metadata": {},
          "execution_count": 12
        }
      ]
    },
    {
      "cell_type": "code",
      "source": [
        "ps = {'amithana','giri','lakshmi','rishab'}\n",
        "sq = {'nanditha','lakshmi','giri'}\n",
        "\n",
        "for i in ps:\n",
        "  if i in sq:\n",
        "    print(i)\n",
        "\n",
        "# only in ps\n",
        "\n",
        "for i in sq:\n",
        "  if i not in ps:\n",
        "    print(i)\n",
        "\n",
        "# only in sq\n",
        "\n",
        "for i in ps:\n",
        "  if i not in sq:\n",
        "    print(i)"
      ],
      "metadata": {
        "colab": {
          "base_uri": "https://localhost:8080/"
        },
        "id": "ZyEetYtFZNpx",
        "outputId": "41ef9352-ab2c-4780-be89-588561bb0531"
      },
      "execution_count": 15,
      "outputs": [
        {
          "output_type": "stream",
          "name": "stdout",
          "text": [
            "giri\n",
            "lakshmi\n",
            "nanditha\n",
            "amithana\n",
            "rishab\n"
          ]
        }
      ]
    },
    {
      "cell_type": "code",
      "source": [
        "ps & sq"
      ],
      "metadata": {
        "colab": {
          "base_uri": "https://localhost:8080/"
        },
        "id": "X26GkDZ2af1_",
        "outputId": "36b7781c-fbc1-4775-f01c-59cce98d44da"
      },
      "execution_count": 16,
      "outputs": [
        {
          "output_type": "execute_result",
          "data": {
            "text/plain": [
              "{'giri', 'lakshmi'}"
            ]
          },
          "metadata": {},
          "execution_count": 16
        }
      ]
    },
    {
      "cell_type": "code",
      "source": [
        "sq - ps"
      ],
      "metadata": {
        "colab": {
          "base_uri": "https://localhost:8080/"
        },
        "id": "rsu5flr2bQW6",
        "outputId": "73fd59bc-e8a8-4fc5-f3ff-ff359c87e421"
      },
      "execution_count": 17,
      "outputs": [
        {
          "output_type": "execute_result",
          "data": {
            "text/plain": [
              "{'nanditha'}"
            ]
          },
          "metadata": {},
          "execution_count": 17
        }
      ]
    },
    {
      "cell_type": "code",
      "source": [
        "ps - sq"
      ],
      "metadata": {
        "colab": {
          "base_uri": "https://localhost:8080/"
        },
        "id": "zQ0jct7WbSph",
        "outputId": "b067ccbe-88c2-4e77-9803-523814fa5080"
      },
      "execution_count": 18,
      "outputs": [
        {
          "output_type": "execute_result",
          "data": {
            "text/plain": [
              "{'amithana', 'rishab'}"
            ]
          },
          "metadata": {},
          "execution_count": 18
        }
      ]
    },
    {
      "cell_type": "code",
      "source": [
        "d1 = {'hr' : 5, 'it':10}\n",
        "d2 = {'fin':3, 'it':12}\n",
        "\n",
        "# merge two dictionary\n",
        "\n",
        "d3 = {**d1,**d2}\n",
        "d3"
      ],
      "metadata": {
        "colab": {
          "base_uri": "https://localhost:8080/"
        },
        "id": "vbhc4wOVb7wr",
        "outputId": "ced61750-fb05-4c6c-dffd-e90f3c7d3792"
      },
      "execution_count": 21,
      "outputs": [
        {
          "output_type": "execute_result",
          "data": {
            "text/plain": [
              "{'hr': 5, 'it': 12, 'fin': 3}"
            ]
          },
          "metadata": {},
          "execution_count": 21
        }
      ]
    },
    {
      "cell_type": "code",
      "source": [
        "merg = d1.copy()\n",
        "merg.update(d2)\n",
        "merg"
      ],
      "metadata": {
        "colab": {
          "base_uri": "https://localhost:8080/"
        },
        "id": "br7woqkldtKy",
        "outputId": "f9822fc9-1c89-4911-bdd6-fe1bf1ad92ac"
      },
      "execution_count": 22,
      "outputs": [
        {
          "output_type": "execute_result",
          "data": {
            "text/plain": [
              "{'hr': 5, 'it': 12, 'fin': 3}"
            ]
          },
          "metadata": {},
          "execution_count": 22
        }
      ]
    },
    {
      "cell_type": "code",
      "source": [
        "origional = {'a':1, 'b':2, 'c':3}\n",
        "# o/p - {1:'a', 2:'b', 3:'c'}\n",
        "\n",
        "inverted = {v:k for k,v in origional.items()}\n",
        "inverted\n",
        "\n"
      ],
      "metadata": {
        "colab": {
          "base_uri": "https://localhost:8080/"
        },
        "id": "88Brh8ljcYAl",
        "outputId": "63eac03d-9f7e-42e6-94a9-9e2127d1ee1a"
      },
      "execution_count": 23,
      "outputs": [
        {
          "output_type": "execute_result",
          "data": {
            "text/plain": [
              "{1: 'a', 2: 'b', 3: 'c'}"
            ]
          },
          "metadata": {},
          "execution_count": 23
        }
      ]
    },
    {
      "cell_type": "code",
      "source": [
        "str = 'python is very is to learn'\n",
        "str.replace(' ', '')"
      ],
      "metadata": {
        "colab": {
          "base_uri": "https://localhost:8080/",
          "height": 36
        },
        "id": "82tqxTjVfm2P",
        "outputId": "89fe8523-a2f5-4b70-8895-be1ecc623a77"
      },
      "execution_count": 24,
      "outputs": [
        {
          "output_type": "execute_result",
          "data": {
            "text/plain": [
              "'pythonisveryistolearn'"
            ],
            "application/vnd.google.colaboratory.intrinsic+json": {
              "type": "string"
            }
          },
          "metadata": {},
          "execution_count": 24
        }
      ]
    },
    {
      "cell_type": "code",
      "source": [
        "sal = [3500,5000,4500,6000,2500]\n",
        "# top 3 salaries\n",
        "asc = sal.sort()\n",
        "asc"
      ],
      "metadata": {
        "id": "M0wnNhdKgTvE"
      },
      "execution_count": 28,
      "outputs": []
    },
    {
      "cell_type": "code",
      "source": [
        "desc = sorted(sal, reverse=True)[:3]\n",
        "desc"
      ],
      "metadata": {
        "colab": {
          "base_uri": "https://localhost:8080/"
        },
        "id": "z0BvHUdqhBI5",
        "outputId": "1593548a-577c-4940-be55-a0d188f354b4"
      },
      "execution_count": 30,
      "outputs": [
        {
          "output_type": "execute_result",
          "data": {
            "text/plain": [
              "[6000, 5000, 4500]"
            ]
          },
          "metadata": {},
          "execution_count": 30
        }
      ]
    }
  ]
}