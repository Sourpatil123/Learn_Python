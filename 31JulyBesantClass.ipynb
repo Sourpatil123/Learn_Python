{
  "nbformat": 4,
  "nbformat_minor": 0,
  "metadata": {
    "colab": {
      "provenance": [],
      "authorship_tag": "ABX9TyMoDJGnBZgaEmWLuduCjU6p",
      "include_colab_link": true
    },
    "kernelspec": {
      "name": "python3",
      "display_name": "Python 3"
    },
    "language_info": {
      "name": "python"
    }
  },
  "cells": [
    {
      "cell_type": "markdown",
      "metadata": {
        "id": "view-in-github",
        "colab_type": "text"
      },
      "source": [
        "<a href=\"https://colab.research.google.com/github/Sourpatil123/Learn_Python/blob/main/31JulyBesantClass.ipynb\" target=\"_parent\"><img src=\"https://colab.research.google.com/assets/colab-badge.svg\" alt=\"Open In Colab\"/></a>"
      ]
    },
    {
      "cell_type": "code",
      "execution_count": 2,
      "metadata": {
        "id": "zV1DWSJ3Aozn"
      },
      "outputs": [],
      "source": [
        "# my name is sourabh and my age is 24\n",
        "#without i/p and without return\n",
        "\n",
        "def info():\n",
        "  name = input(\"enter name\")\n",
        "  age = int(input(\"enter age\"))\n",
        "  print(f\"my name is {name} and my age is {age}\")"
      ]
    },
    {
      "cell_type": "code",
      "source": [
        "info()"
      ],
      "metadata": {
        "colab": {
          "base_uri": "https://localhost:8080/"
        },
        "id": "0NLKQMsyBipt",
        "outputId": "74df309e-3a91-43c2-a13f-d776d36ecb5d"
      },
      "execution_count": 3,
      "outputs": [
        {
          "output_type": "stream",
          "name": "stdout",
          "text": [
            "enter namesour\n",
            "enter age24\n",
            "my name is sour and my age is 24\n"
          ]
        }
      ]
    },
    {
      "cell_type": "code",
      "source": [
        "# my name is sourabh and my age is 24\n",
        "#with i/p and without return\n",
        "\n",
        "def info1(n, a):\n",
        "  print(f\"my name is {n} and my age is {a}\")\n"
      ],
      "metadata": {
        "id": "wcNU_-BTB6zU"
      },
      "execution_count": 7,
      "outputs": []
    },
    {
      "cell_type": "code",
      "source": [
        "info1(\"sour\",14)"
      ],
      "metadata": {
        "colab": {
          "base_uri": "https://localhost:8080/"
        },
        "id": "rfPpwAbVCTpT",
        "outputId": "9916bc27-91e4-4fe0-9681-63dcec9c10a0"
      },
      "execution_count": 8,
      "outputs": [
        {
          "output_type": "stream",
          "name": "stdout",
          "text": [
            "my name is sour and my age is 14\n"
          ]
        }
      ]
    },
    {
      "cell_type": "code",
      "source": [
        "# without i/p with return\n",
        "def addition():\n",
        "  a = int(input(\"enter a\"))\n",
        "  b = int(input(\"enter b\"))\n",
        "  return a+b\n"
      ],
      "metadata": {
        "id": "QfmJyXZ0EYrW"
      },
      "execution_count": 22,
      "outputs": []
    },
    {
      "cell_type": "code",
      "source": [
        "addition()"
      ],
      "metadata": {
        "colab": {
          "base_uri": "https://localhost:8080/"
        },
        "id": "kutw-9mQHgLN",
        "outputId": "665231ab-c97e-4402-a5b4-3ecdfb7199b5"
      },
      "execution_count": 23,
      "outputs": [
        {
          "name": "stdout",
          "output_type": "stream",
          "text": [
            "enter a10\n",
            "enter b20\n"
          ]
        },
        {
          "output_type": "execute_result",
          "data": {
            "text/plain": [
              "30"
            ]
          },
          "metadata": {},
          "execution_count": 23
        }
      ]
    },
    {
      "cell_type": "code",
      "source": [
        "# with ip with return\n",
        "def substraction(a,b):\n",
        "  return a-b\n"
      ],
      "metadata": {
        "id": "CuyVZOINHnWU"
      },
      "execution_count": 25,
      "outputs": []
    },
    {
      "cell_type": "code",
      "source": [
        "substraction(20,10)"
      ],
      "metadata": {
        "colab": {
          "base_uri": "https://localhost:8080/"
        },
        "id": "KHiFva31IUeX",
        "outputId": "b7e75327-4ea7-422f-9ed9-30d88a771f30"
      },
      "execution_count": 26,
      "outputs": [
        {
          "output_type": "execute_result",
          "data": {
            "text/plain": [
              "10"
            ]
          },
          "metadata": {},
          "execution_count": 26
        }
      ]
    },
    {
      "cell_type": "code",
      "source": [
        "# create a func to find divisibility of number with ip without return\n",
        "\n",
        "def info4():\n",
        "  n = int(input(\"enter n\"))\n",
        "  d = int(input(\"enter divider\"))\n",
        "  if(n % d == 1):\n",
        "    print(\"number is divisible\")\n",
        "  else:\n",
        "    print(\"number is not divisible\")"
      ],
      "metadata": {
        "id": "SSFdH11yJi-k"
      },
      "execution_count": 32,
      "outputs": []
    },
    {
      "cell_type": "code",
      "source": [],
      "metadata": {
        "colab": {
          "base_uri": "https://localhost:8080/"
        },
        "id": "fAOes8XkKW7h",
        "outputId": "9646cd2d-9f8a-4f8c-8b48-a621709e0aef"
      },
      "execution_count": 33,
      "outputs": [
        {
          "output_type": "stream",
          "name": "stdout",
          "text": [
            "enter n6\n",
            "enter divider2\n",
            "number is not divisible\n"
          ]
        }
      ]
    },
    {
      "cell_type": "code",
      "source": [
        "# with ip with return\n",
        "\n",
        "def fac5(n):\n",
        "  l1 = []\n",
        "  for i in range(1, n + 1, 1):\n",
        "    if(n % i == 0):\n",
        "      l1.append(1)\n",
        "  return l1"
      ],
      "metadata": {
        "id": "eoMjOOxPLaU1"
      },
      "execution_count": 35,
      "outputs": []
    }
  ]
}