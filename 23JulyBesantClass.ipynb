{
  "nbformat": 4,
  "nbformat_minor": 0,
  "metadata": {
    "colab": {
      "provenance": [],
      "authorship_tag": "ABX9TyP232r/WUOXeG4KFzQaV2z0",
      "include_colab_link": true
    },
    "kernelspec": {
      "name": "python3",
      "display_name": "Python 3"
    },
    "language_info": {
      "name": "python"
    }
  },
  "cells": [
    {
      "cell_type": "markdown",
      "metadata": {
        "id": "view-in-github",
        "colab_type": "text"
      },
      "source": [
        "<a href=\"https://colab.research.google.com/github/Sourpatil123/Learn_Python/blob/main/23JulyBesantClass.ipynb\" target=\"_parent\"><img src=\"https://colab.research.google.com/assets/colab-badge.svg\" alt=\"Open In Colab\"/></a>"
      ]
    },
    {
      "cell_type": "code",
      "execution_count": null,
      "metadata": {
        "colab": {
          "base_uri": "https://localhost:8080/"
        },
        "id": "u9isOaLox7l_",
        "outputId": "429b681e-723a-44b0-bd6e-b890195d1956"
      },
      "outputs": [
        {
          "output_type": "stream",
          "name": "stdout",
          "text": [
            "enter number4\n",
            "24\n"
          ]
        }
      ],
      "source": [
        "# factorial number\n",
        "n = int(input(\"enter number\"))\n",
        "factorial = 1\n",
        "i = 1\n",
        "while(i <= n):\n",
        "  factorial *= i\n",
        "  i += 1\n",
        "print(factorial)"
      ]
    },
    {
      "cell_type": "code",
      "source": [
        "n = int(input(\"enter number\"))\n",
        "factorial = 1\n",
        "for i in range(1, n+1):\n",
        "  factorial *= i\n",
        "print(factorial)"
      ],
      "metadata": {
        "colab": {
          "base_uri": "https://localhost:8080/"
        },
        "id": "W7Nr_CRHzfmY",
        "outputId": "45379ef9-015d-43b2-ed69-d727d907e561"
      },
      "execution_count": null,
      "outputs": [
        {
          "output_type": "stream",
          "name": "stdout",
          "text": [
            "enter number4\n",
            "24\n"
          ]
        }
      ]
    },
    {
      "cell_type": "code",
      "source": [
        "for i in range(0,6,1):\n",
        "\n",
        "    print(\"* \" * i)\n",
        "\n"
      ],
      "metadata": {
        "colab": {
          "base_uri": "https://localhost:8080/"
        },
        "id": "AWZqi0pV0yMW",
        "outputId": "5fa4487f-34be-4463-f284-6d7d5c8fd764"
      },
      "execution_count": null,
      "outputs": [
        {
          "output_type": "stream",
          "name": "stdout",
          "text": [
            "\n",
            "* \n",
            "* * \n",
            "* * * \n",
            "* * * * \n",
            "* * * * * \n"
          ]
        }
      ]
    },
    {
      "cell_type": "code",
      "source": [
        "# even series 0 to 20\n",
        "count = 0\n",
        "for i in range(2, 20, 2):\n",
        "  print(i, end=\" \")\n",
        "  count += 1\n",
        "print(\"\\ncount is : \", count)"
      ],
      "metadata": {
        "colab": {
          "base_uri": "https://localhost:8080/"
        },
        "id": "f1R-J5mL2cnZ",
        "outputId": "c9e73aff-bfb0-4e45-947a-4a8b8de4b4b1"
      },
      "execution_count": null,
      "outputs": [
        {
          "output_type": "stream",
          "name": "stdout",
          "text": [
            "2 4 6 8 10 12 14 16 18 \n",
            "count is :  9\n"
          ]
        }
      ]
    },
    {
      "cell_type": "code",
      "source": [
        "for i in range(1,10,1):\n",
        "  if(i % 2 == 0):\n",
        "    print(i, \" even\")\n",
        "  else:\n",
        "     (print(i, \" odd\"))"
      ],
      "metadata": {
        "colab": {
          "base_uri": "https://localhost:8080/"
        },
        "id": "yElDqhCP3pde",
        "outputId": "02171fc3-9fd1-4e1e-d7cb-08edfabd23e8"
      },
      "execution_count": null,
      "outputs": [
        {
          "output_type": "stream",
          "name": "stdout",
          "text": [
            "1  odd\n",
            "2  even\n",
            "3  odd\n",
            "4  even\n",
            "5  odd\n",
            "6  even\n",
            "7  odd\n",
            "8  even\n",
            "9  odd\n"
          ]
        }
      ]
    },
    {
      "cell_type": "code",
      "source": [
        "for i in range(5,0,-1):\n",
        "  for j in range(i,0,-1):\n",
        "    print(j, end=\" \")\n",
        "  print()\n",
        "\n"
      ],
      "metadata": {
        "colab": {
          "base_uri": "https://localhost:8080/"
        },
        "id": "qh0o0Pni6nNi",
        "outputId": "c8cd8215-dda3-4ce7-f1d4-4f280448f8bc"
      },
      "execution_count": null,
      "outputs": [
        {
          "output_type": "stream",
          "name": "stdout",
          "text": [
            "5 4 3 2 1 \n",
            "4 3 2 1 \n",
            "3 2 1 \n",
            "2 1 \n",
            "1 \n"
          ]
        }
      ]
    },
    {
      "cell_type": "code",
      "source": [
        "# for i in range () : outer Loop\n",
        "#   for j in range(): inner loop\n",
        "#     statement of inner Loop\n",
        "#     statement of outer loop"
      ],
      "metadata": {
        "id": "kIHhJd8u8xL0"
      },
      "execution_count": null,
      "outputs": []
    },
    {
      "cell_type": "code",
      "source": [
        "for i in range (1, 6):\n",
        "  for j in range(i):\n",
        "    print(i , end =\" \")\n",
        "  print()"
      ],
      "metadata": {
        "colab": {
          "base_uri": "https://localhost:8080/"
        },
        "id": "XiBCH1iE9L09",
        "outputId": "78de7040-d842-4095-fe3d-348c6e703394"
      },
      "execution_count": null,
      "outputs": [
        {
          "output_type": "stream",
          "name": "stdout",
          "text": [
            "1 \n",
            "2 2 \n",
            "3 3 3 \n",
            "4 4 4 4 \n",
            "5 5 5 5 5 \n"
          ]
        }
      ]
    }
  ]
}