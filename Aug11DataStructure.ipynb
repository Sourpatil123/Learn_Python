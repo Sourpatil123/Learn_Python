{
  "nbformat": 4,
  "nbformat_minor": 0,
  "metadata": {
    "colab": {
      "provenance": [],
      "authorship_tag": "ABX9TyNJqlRAtpMXMYOLaDzvsl3X",
      "include_colab_link": true
    },
    "kernelspec": {
      "name": "python3",
      "display_name": "Python 3"
    },
    "language_info": {
      "name": "python"
    }
  },
  "cells": [
    {
      "cell_type": "markdown",
      "metadata": {
        "id": "view-in-github",
        "colab_type": "text"
      },
      "source": [
        "<a href=\"https://colab.research.google.com/github/Sourpatil123/Learn_Python/blob/main/Aug11DataStructure.ipynb\" target=\"_parent\"><img src=\"https://colab.research.google.com/assets/colab-badge.svg\" alt=\"Open In Colab\"/></a>"
      ]
    },
    {
      "cell_type": "code",
      "execution_count": null,
      "metadata": {
        "id": "81t8wE7Xnrw-"
      },
      "outputs": [],
      "source": [
        "# Types of DS Multivalues variable\n",
        "# list\n",
        "# tuple\n",
        "# set\n",
        "# dictionary(dict)"
      ]
    },
    {
      "cell_type": "code",
      "source": [
        "# list\n",
        "# list() - function\n",
        "# list[] - declaration\n",
        "\n",
        "l1 = [1,\"python\",2.5,'true']\n",
        "l1"
      ],
      "metadata": {
        "colab": {
          "base_uri": "https://localhost:8080/"
        },
        "id": "d-eKNbgPqny-",
        "outputId": "175e91d1-22d9-493d-cf55-d840efd68b38"
      },
      "execution_count": 2,
      "outputs": [
        {
          "output_type": "execute_result",
          "data": {
            "text/plain": [
              "[1, 'python', 2.5, 'true']"
            ]
          },
          "metadata": {},
          "execution_count": 2
        }
      ]
    },
    {
      "cell_type": "code",
      "source": [
        "for i in l1:\n",
        "  print(i)"
      ],
      "metadata": {
        "colab": {
          "base_uri": "https://localhost:8080/"
        },
        "id": "1yA-4CbtrNRf",
        "outputId": "ccee3540-f348-4dfd-d9da-9c43c7df474c"
      },
      "execution_count": 3,
      "outputs": [
        {
          "output_type": "stream",
          "name": "stdout",
          "text": [
            "1\n",
            "python\n",
            "2.5\n",
            "true\n"
          ]
        }
      ]
    },
    {
      "cell_type": "code",
      "source": [
        "for i in enumerate(l1):\n",
        "  print(i)\n",
        "  print(f\"index {i[0]} and value {i[1]}\")"
      ],
      "metadata": {
        "colab": {
          "base_uri": "https://localhost:8080/"
        },
        "id": "WZ1u5bTdrZRm",
        "outputId": "8a0c91c6-f3f8-41b8-ffb4-63a2bd79b23b"
      },
      "execution_count": 10,
      "outputs": [
        {
          "output_type": "stream",
          "name": "stdout",
          "text": [
            "(0, 1)\n",
            "index 0 and value 1\n",
            "(1, 'python')\n",
            "index 1 and value python\n",
            "(2, 2.5)\n",
            "index 2 and value 2.5\n",
            "(3, 'true')\n",
            "index 3 and value true\n"
          ]
        }
      ]
    },
    {
      "cell_type": "code",
      "source": [
        "for i in range(len(l1)):\n",
        "  print(i, l1[i])"
      ],
      "metadata": {
        "colab": {
          "base_uri": "https://localhost:8080/"
        },
        "id": "HKuMk4mKs34G",
        "outputId": "e5286cfe-c812-4a8a-d06a-331f0df5c186"
      },
      "execution_count": 13,
      "outputs": [
        {
          "output_type": "stream",
          "name": "stdout",
          "text": [
            "0 1\n",
            "1 python\n",
            "2 2.5\n",
            "3 true\n"
          ]
        }
      ]
    },
    {
      "cell_type": "code",
      "source": [
        "# functions in list\n",
        "l2 = [1,'python',56.9,True,34,'excel',False, 28]\n"
      ],
      "metadata": {
        "id": "QLAjMLA6vFcf"
      },
      "execution_count": 16,
      "outputs": []
    },
    {
      "cell_type": "code",
      "source": [
        "# print even index value\n",
        "for i in range(len(l2)):\n",
        "  if(i % 2 == 0):\n",
        "    print(l2[i])"
      ],
      "metadata": {
        "colab": {
          "base_uri": "https://localhost:8080/"
        },
        "id": "S1xGkx0PvoRI",
        "outputId": "e3789818-7455-439a-930e-308e7fa29ca3"
      },
      "execution_count": 19,
      "outputs": [
        {
          "output_type": "stream",
          "name": "stdout",
          "text": [
            "1\n",
            "56.9\n",
            "34\n",
            "False\n"
          ]
        }
      ]
    },
    {
      "cell_type": "code",
      "source": [
        "# printno of elements in list\n",
        "print(len(l2))"
      ],
      "metadata": {
        "colab": {
          "base_uri": "https://localhost:8080/"
        },
        "id": "XH2lAkH8v6wg",
        "outputId": "a657c3b4-c5dd-4825-819f-25c0116a3875"
      },
      "execution_count": 20,
      "outputs": [
        {
          "output_type": "stream",
          "name": "stdout",
          "text": [
            "8\n"
          ]
        }
      ]
    },
    {
      "cell_type": "code",
      "source": [
        "# replace true value by India\n",
        "l2[3] = 'india'\n",
        "l2"
      ],
      "metadata": {
        "colab": {
          "base_uri": "https://localhost:8080/"
        },
        "id": "FFXXLfkcwulK",
        "outputId": "d2e496ea-d8fa-407a-e918-635de274fb0e"
      },
      "execution_count": 24,
      "outputs": [
        {
          "output_type": "execute_result",
          "data": {
            "text/plain": [
              "[1, 'python', 56.9, 'india', 34, 'excel', False, 28]"
            ]
          },
          "metadata": {},
          "execution_count": 24
        }
      ]
    },
    {
      "cell_type": "code",
      "source": [
        "# remove\n",
        "l2.pop(5)"
      ],
      "metadata": {
        "colab": {
          "base_uri": "https://localhost:8080/"
        },
        "id": "RjSJXTyLxhcC",
        "outputId": "7ae375b4-e424-472c-bcf2-b80cc6cf746c"
      },
      "execution_count": 29,
      "outputs": [
        {
          "output_type": "execute_result",
          "data": {
            "text/plain": [
              "28"
            ]
          },
          "metadata": {},
          "execution_count": 29
        }
      ]
    },
    {
      "cell_type": "code",
      "source": [
        "l2"
      ],
      "metadata": {
        "colab": {
          "base_uri": "https://localhost:8080/"
        },
        "id": "WiO1tmhTyjXO",
        "outputId": "beb1dddd-59e6-426b-e38f-e4716631a2e7"
      },
      "execution_count": 31,
      "outputs": [
        {
          "output_type": "execute_result",
          "data": {
            "text/plain": [
              "[1, 'python', 56.9, 'india', 34]"
            ]
          },
          "metadata": {},
          "execution_count": 31
        }
      ]
    },
    {
      "cell_type": "code",
      "source": [
        "l2.remove(56.9)"
      ],
      "metadata": {
        "id": "eafUKjlIytAf"
      },
      "execution_count": 32,
      "outputs": []
    },
    {
      "cell_type": "code",
      "source": [
        "l2"
      ],
      "metadata": {
        "colab": {
          "base_uri": "https://localhost:8080/"
        },
        "id": "ehetEUSpyx4W",
        "outputId": "b39b5277-1095-4a29-f649-bc0b9d143717"
      },
      "execution_count": 33,
      "outputs": [
        {
          "output_type": "execute_result",
          "data": {
            "text/plain": [
              "[1, 'python', 'india', 34]"
            ]
          },
          "metadata": {},
          "execution_count": 33
        }
      ]
    },
    {
      "cell_type": "code",
      "source": [
        "l2.append('pqr')\n",
        "l2"
      ],
      "metadata": {
        "colab": {
          "base_uri": "https://localhost:8080/"
        },
        "id": "VXDiMfGNzNsE",
        "outputId": "7161742a-5440-4b74-fcbd-0d23d2c0ac5f"
      },
      "execution_count": 34,
      "outputs": [
        {
          "output_type": "execute_result",
          "data": {
            "text/plain": [
              "[1, 'python', 'india', 34, 'pqr']"
            ]
          },
          "metadata": {},
          "execution_count": 34
        }
      ]
    },
    {
      "cell_type": "code",
      "source": [
        "l2.insert(2,5)\n",
        "l2"
      ],
      "metadata": {
        "colab": {
          "base_uri": "https://localhost:8080/"
        },
        "id": "KGWsef_9z8be",
        "outputId": "a613188a-3913-40e1-a739-5a2b0f7a7e83"
      },
      "execution_count": 35,
      "outputs": [
        {
          "output_type": "execute_result",
          "data": {
            "text/plain": [
              "[1, 'python', 5, 'india', 34, 'pqr']"
            ]
          },
          "metadata": {},
          "execution_count": 35
        }
      ]
    }
  ]
}