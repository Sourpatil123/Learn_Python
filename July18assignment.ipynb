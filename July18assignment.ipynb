{
  "nbformat": 4,
  "nbformat_minor": 0,
  "metadata": {
    "colab": {
      "provenance": [],
      "authorship_tag": "ABX9TyNza5EUWlwuu4nBZzs1aoX3",
      "include_colab_link": true
    },
    "kernelspec": {
      "name": "python3",
      "display_name": "Python 3"
    },
    "language_info": {
      "name": "python"
    }
  },
  "cells": [
    {
      "cell_type": "markdown",
      "metadata": {
        "id": "view-in-github",
        "colab_type": "text"
      },
      "source": [
        "<a href=\"https://colab.research.google.com/github/Sourpatil123/Learn_Python/blob/main/July18assignment.ipynb\" target=\"_parent\"><img src=\"https://colab.research.google.com/assets/colab-badge.svg\" alt=\"Open In Colab\"/></a>"
      ]
    },
    {
      "cell_type": "code",
      "execution_count": null,
      "metadata": {
        "colab": {
          "base_uri": "https://localhost:8080/"
        },
        "id": "Y8aq1lPbn0se",
        "outputId": "354e477f-37ec-4095-a52d-d933799855da"
      },
      "outputs": [
        {
          "output_type": "stream",
          "name": "stdout",
          "text": [
            "enter number-2\n",
            "Negative\n"
          ]
        }
      ],
      "source": [
        "#1. Write a Python program to check whether a number is positive, negative, or zero.\n",
        "num  = int(input(\"enter number\"))\n",
        "\n",
        "if(num >= 0):\n",
        "  if(num  == 0):\n",
        "    print(\"Zero\")\n",
        "  else:\n",
        "    print(\"Positive\")\n",
        "else:\n",
        "  print(\"Negative\")"
      ]
    },
    {
      "cell_type": "code",
      "source": [
        "# 2.Ask the user to enter their age and check if they are eligible to vote (age ≥ 18).\n",
        "age = int(input(\"enter age\"))\n",
        "if(age >= 18):\n",
        "  print(\"eligible to vote\")\n",
        "else:\n",
        "  print(\"not eligible to vote\")"
      ],
      "metadata": {
        "colab": {
          "base_uri": "https://localhost:8080/"
        },
        "id": "rOOhu4DjohOf",
        "outputId": "7a8e5fcf-c2f2-4399-c9c6-8b9819109311"
      },
      "execution_count": null,
      "outputs": [
        {
          "output_type": "stream",
          "name": "stdout",
          "text": [
            "enter age20\n",
            "eligible to vote\n"
          ]
        }
      ]
    },
    {
      "cell_type": "code",
      "source": [
        "# 3. Write a program to check if a number is even or odd.\n",
        "num = int(input(\"enter number\"))\n",
        "if(num % 2 == 0):\n",
        "  print(num , \" is even\")\n",
        "else:\n",
        "  print(num, \" is odd\")"
      ],
      "metadata": {
        "colab": {
          "base_uri": "https://localhost:8080/"
        },
        "id": "_oElVWjdo7xC",
        "outputId": "760975aa-19e6-423e-ae10-584c7716457c"
      },
      "execution_count": null,
      "outputs": [
        {
          "output_type": "stream",
          "name": "stdout",
          "text": [
            "enter number8\n",
            "8  is even\n"
          ]
        }
      ]
    },
    {
      "cell_type": "code",
      "source": [
        "# 4. Accept a number from the user and check if it is divisible by 5 and 11.\n",
        "num = int(input(\"enter number\"))\n",
        "if(num % 5 == 0 and num % 11 == 0):\n",
        "  print(num, \" is divisible by 5 qand 11\")\n",
        "else:\n",
        "  print(num, \" is not divisible by 5 qand 11\")"
      ],
      "metadata": {
        "colab": {
          "base_uri": "https://localhost:8080/"
        },
        "id": "8jRoVk05pwC9",
        "outputId": "22517cca-d89d-473a-a529-04a0bf703b13"
      },
      "execution_count": null,
      "outputs": [
        {
          "output_type": "stream",
          "name": "stdout",
          "text": [
            "enter number25\n",
            "25  is not divisible by 5 qand 11\n"
          ]
        }
      ]
    },
    {
      "cell_type": "code",
      "source": [
        "# 5. Write a program to determine whether a character is a vowel or consonant.\n",
        "char = input(\"enter char\")\n",
        "if(char in 'aeiouAEIOU'):\n",
        "  print(char, \" is vowel\")\n",
        "else:\n",
        "  print(char, \" is consonent\")\n"
      ],
      "metadata": {
        "colab": {
          "base_uri": "https://localhost:8080/"
        },
        "id": "4QWOC7J1qZ_j",
        "outputId": "507b0ce9-85a3-4acc-f4af-87e7bb4a7298"
      },
      "execution_count": null,
      "outputs": [
        {
          "output_type": "stream",
          "name": "stdout",
          "text": [
            "enter chara\n",
            "a  is vowel\n"
          ]
        }
      ]
    },
    {
      "cell_type": "code",
      "source": [
        "# 6. Accept 3 numbers and find the largest among them using nested if statements.\n",
        "a = int(input(\"enter number\"))\n",
        "b = int(input(\"enter number\"))\n",
        "c = int(input(\"enter number\"))\n",
        "\n",
        "if(a > b and a > c):\n",
        "  print(a, \" is greater\")\n",
        "elif(b > a and b > c):\n",
        "  print(b, \" is greater\")\n",
        "else:\n",
        "  print(c, \" is greater\")\n"
      ],
      "metadata": {
        "colab": {
          "base_uri": "https://localhost:8080/"
        },
        "id": "iJoKJnOIrDiV",
        "outputId": "61432c0c-59c7-49c7-f351-f1331a631e45"
      },
      "execution_count": null,
      "outputs": [
        {
          "output_type": "stream",
          "name": "stdout",
          "text": [
            "enter number5\n",
            "enter number10\n",
            "enter number6\n",
            "10  is greater\n"
          ]
        }
      ]
    },
    {
      "cell_type": "code",
      "source": [
        "# 7. Write a program to check whether a year is a leap year or not\n",
        "\n",
        "year = int(input(\"enter year\"))\n",
        "if(year % 4 == 0 and year % 100 != 0 or year % 400 == 0):\n",
        "  print(year, \" is leap year\")\n",
        "else:\n",
        "  print(year, \" is not leap year\")"
      ],
      "metadata": {
        "colab": {
          "base_uri": "https://localhost:8080/"
        },
        "id": "hOzwWuKNrtUo",
        "outputId": "5f04b33e-d62a-4a7d-87e0-1e3a02e2e56d"
      },
      "execution_count": null,
      "outputs": [
        {
          "output_type": "stream",
          "name": "stdout",
          "text": [
            "enter year2024\n",
            "2024  is leap year\n"
          ]
        }
      ]
    },
    {
      "cell_type": "code",
      "source": [
        "# 8. Take input from the user for hours worked and rate per hour. Calculate gross pay. If hours worked > 40, give overtime pay at 1.5 times the rate.\n",
        "workHour = float(input(\"enteer work hour\"))\n",
        "rate = float(input(\"enter rate\"))\n",
        "\n",
        "grossPay = workHour * rate\n",
        "\n",
        "if(workHour > 40):\n",
        "  ot = (workHour - 40) * (rate * 1.5)\n",
        "  print(grossPay + ot - ((workHour - 40) * rate))\n",
        "else:\n",
        "  print(grossPay)\n",
        "\n"
      ],
      "metadata": {
        "colab": {
          "base_uri": "https://localhost:8080/"
        },
        "id": "Kw1RIUe-sGXT",
        "outputId": "13c6e1a1-7021-4ea3-bb13-9d9aeafd6dac"
      },
      "execution_count": null,
      "outputs": [
        {
          "output_type": "stream",
          "name": "stdout",
          "text": [
            "enteer work hour45\n",
            "enter rate10\n",
            "475.0\n"
          ]
        }
      ]
    },
    {
      "cell_type": "code",
      "source": [
        "# 9. Ask the user to enter a password and validate it with a preset value. If it matches, print \"Access Granted\", else print \"Access Denied\".\n",
        "password = input(\"enter password\")\n",
        "if(password == \"sourabh123\"):\n",
        "  print(\"Access Granted\")\n",
        "else:\n",
        "  print(\"Access Denied\")"
      ],
      "metadata": {
        "colab": {
          "base_uri": "https://localhost:8080/"
        },
        "id": "cRXI4UNCv6eP",
        "outputId": "de534467-3e36-475b-c975-0805672ad45a"
      },
      "execution_count": null,
      "outputs": [
        {
          "output_type": "stream",
          "name": "stdout",
          "text": [
            "enter passwordsourabh123\n",
            "Access Granted\n"
          ]
        }
      ]
    },
    {
      "cell_type": "code",
      "source": [
        "# 10. Accept marks of 5 subjects and calculate total, average, and assign grade using the following: A: 90+, B: 80–89, C: 70–79, D: 60–69, F: <60\n",
        "print(\"enter marks of 5 subjects\")\n",
        "sub1 = float(input(\"enter marks\"))\n",
        "sub2 = float(input(\"enter marks\"))\n",
        "sub3 = float(input(\"enter marks\"))\n",
        "sub4 = float(input(\"enter marks\"))\n",
        "sub5 = float(input(\"enter marks\"))\n",
        "total = sub1+sub2+sub3+sub4+sub5\n",
        "average = total/5\n",
        "print(total)\n",
        "print(average)\n",
        "if(average >= 90):\n",
        "  print(\"A\")\n",
        "elif(average >= 89 and average <= 80):\n",
        "  print(\"B\")\n",
        "elif(average >= 70 and average <= 79):\n",
        "  print(\"C\")\n",
        "elif(average >= 60 and average <= 69):\n",
        "  print(\"D\")\n",
        "elif(average < 60):\n",
        "  print(\"f\")"
      ],
      "metadata": {
        "id": "-3Kgldg1wmTX",
        "colab": {
          "base_uri": "https://localhost:8080/"
        },
        "outputId": "c449e238-e790-4583-9a63-714fe5f349a8"
      },
      "execution_count": null,
      "outputs": [
        {
          "output_type": "stream",
          "name": "stdout",
          "text": [
            "enter marks of 5 subjects\n",
            "enter marks95\n",
            "enter marks85\n",
            "enter marks88\n",
            "enter marks75\n",
            "enter marks96\n",
            "439.0\n",
            "87.8\n"
          ]
        }
      ]
    },
    {
      "cell_type": "code",
      "source": [
        "# 11. Accept a number from the user and check if it is a 3-digit number.\n",
        "num = int(input(\"enter number\"))\n",
        "\n",
        "if(num >= 100 and num <= 999):\n",
        "  print(num, \" is 3-digit number\")\n",
        "else:\n",
        "  print(num, \" is not 3-digit number\")\n"
      ],
      "metadata": {
        "colab": {
          "base_uri": "https://localhost:8080/"
        },
        "id": "DcRs-gxyr8LU",
        "outputId": "1700c1f2-a551-4be5-bf87-98234fd60402"
      },
      "execution_count": null,
      "outputs": [
        {
          "output_type": "stream",
          "name": "stdout",
          "text": [
            "enter number124\n",
            "124  is 3-digit number\n"
          ]
        }
      ]
    },
    {
      "cell_type": "code",
      "source": [
        "# 12. Accept the day number (1–7) and print the name of the day.\n",
        "dayNo = int(input(\"enter day number\"))\n",
        "if(dayNo == 1):\n",
        "  print(\"Monday\")\n",
        "elif(dayNo == 2):\n",
        "  print(\"Tuesday\")\n",
        "elif(dayNo == 3):\n",
        "  print(\"Wednesday\")\n",
        "elif(dayNo == 4):\n",
        "  print(\"Thursday\")\n",
        "elif(dayNo == 5):\n",
        "  print(\"Friday\")\n",
        "elif(dayNo == 6):\n",
        "  print(\"Saturday\")\n",
        "elif(dayNo == 7):\n",
        "  print(\"Sunday\")"
      ],
      "metadata": {
        "colab": {
          "base_uri": "https://localhost:8080/"
        },
        "id": "oMob7H0EstqE",
        "outputId": "7c687c31-f733-457c-81e9-45dcf1cb94aa"
      },
      "execution_count": null,
      "outputs": [
        {
          "output_type": "stream",
          "name": "stdout",
          "text": [
            "enter day number7\n",
            "Sunday\n"
          ]
        }
      ]
    },
    {
      "cell_type": "code",
      "source": [
        "# 13. Write a program to simulate a basic calculator using if-elif-else: Ask user to enter two numbers and an operator (+, –, *, /)\n",
        "a = int(input(\"enter number\"))\n",
        "b = int(input(\"enter number\"))\n",
        "operation = input(\"enter operation to be performed\")\n",
        "\n",
        "if(operation == '+'):\n",
        "  print(a + b)\n",
        "elif(operation == '-'):\n",
        "  print(a-b)\n",
        "elif(operation == '*'):\n",
        "  print(a*b)\n",
        "else:\n",
        "  print(a/b)\n",
        "\n"
      ],
      "metadata": {
        "colab": {
          "base_uri": "https://localhost:8080/"
        },
        "id": "3huBzINqtpXs",
        "outputId": "7542104a-fb10-4126-f19f-c1effec80d32"
      },
      "execution_count": null,
      "outputs": [
        {
          "output_type": "stream",
          "name": "stdout",
          "text": [
            "enter number10\n",
            "enter number20\n",
            "enter operation to be performed*\n",
            "200\n"
          ]
        }
      ]
    },
    {
      "cell_type": "code",
      "source": [
        "# 14. Take input of basic salary and calculate gross salary:\n",
        "#HRA = 20% of basic if salary > 10000 else 10%\n",
        "#DA = 80% of basic if salary > 10000 else 90%\n",
        "\n",
        "basicSal = float(input(\"enter salary\"))\n",
        "\n",
        "if(basicSal > 10000):\n",
        "  hra = 0.20 * basicSal\n",
        "  da = 0.80 * basicSal\n",
        "else:\n",
        "  hra = 0.10 * basicSal\n",
        "  da = 0.90 * basicSal\n",
        "\n",
        "gross_sal = basicSal + hra + da\n",
        "print(gross_sal)"
      ],
      "metadata": {
        "colab": {
          "base_uri": "https://localhost:8080/"
        },
        "id": "uqLH8e_5ulqr",
        "outputId": "fd1fe873-b97d-4a7b-e329-3bd04a415609"
      },
      "execution_count": null,
      "outputs": [
        {
          "output_type": "stream",
          "name": "stdout",
          "text": [
            "enter salary15000\n",
            "30000.0\n"
          ]
        }
      ]
    },
    {
      "cell_type": "code",
      "source": [
        "# 15. Accept a number and check if it is a palindrome number (like 121, 1331).\n",
        "num = int(input(\"enter number\"))\n",
        "orgNum = num\n",
        "revNum = 0\n",
        "\n",
        "while num > 0:\n",
        "  digit = num % 10\n",
        "  revNum = (revNum*10) + digit\n",
        "  num = num // 10\n",
        "\n",
        "if(orgNum == revNum):\n",
        "  print(\"Palindrome\")\n",
        "else:\n",
        "  print(\"Not Plaindrome\")\n"
      ],
      "metadata": {
        "colab": {
          "base_uri": "https://localhost:8080/"
        },
        "id": "oXkCc5t5wEmm",
        "outputId": "f4b6b452-224b-4a21-a734-21c3dd1eab5c"
      },
      "execution_count": null,
      "outputs": [
        {
          "output_type": "stream",
          "name": "stdout",
          "text": [
            "enter number121\n",
            "Palindrome\n"
          ]
        }
      ]
    },
    {
      "cell_type": "code",
      "source": [
        "# 16. Take an input number and print whether it is a perfect number (sum of factors = number).\n",
        "\n",
        "num = int(input(\"Enter a number: \"))\n",
        "\n",
        "\n",
        "sum_of_div = 0\n",
        "\n",
        "for i in range(1, num):\n",
        "    if num % i == 0:\n",
        "        sum_of_div += i\n",
        "\n",
        "if sum_of_div == num:\n",
        "    print(num, \"is a Perfect Number\")\n",
        "else:\n",
        "    print(num, \"is not a Perfect Number\")\n"
      ],
      "metadata": {
        "id": "Sod-Js5Twjqf",
        "colab": {
          "base_uri": "https://localhost:8080/"
        },
        "outputId": "3b4e8e68-6c5b-4fa6-8007-e2676a5bcc4f"
      },
      "execution_count": null,
      "outputs": [
        {
          "output_type": "stream",
          "name": "stdout",
          "text": [
            "Enter a number: 1235\n",
            "1235 is not a Perfect Number\n"
          ]
        }
      ]
    },
    {
      "cell_type": "code",
      "source": [
        "# 17. Check wheater  triangle is equilateral, isosceles, or scalene based on side inputs"
      ],
      "metadata": {
        "id": "QbINl1j5YHzi"
      },
      "execution_count": null,
      "outputs": []
    },
    {
      "cell_type": "code",
      "source": [
        "# 18. Accept coordinates(x,y) and determine the points location in a quadrant or if's on an axis\n",
        "\n",
        "\n",
        "x = float(input(\"Enter x-coordinate: \"))\n",
        "y = float(input(\"Enter y-coordinate: \"))\n",
        "\n",
        "\n",
        "if x == 0 and y == 0:\n",
        "    print(\"The point is at the Origin.\")\n",
        "elif x == 0:\n",
        "    print(\"The point lies on the Y-axis.\")\n",
        "elif y == 0:\n",
        "    print(\"The point lies on the X-axis.\")\n",
        "elif x > 0 and y > 0:\n",
        "    print(\"The point is in Quadrant 1.\")\n",
        "elif x < 0 and y > 0:\n",
        "    print(\"The point is in Quadrant 2.\")\n",
        "elif x < 0 and y < 0:\n",
        "    print(\"The point is in Quadrant 3.\")\n",
        "elif x > 0 and y < 0:\n",
        "    print(\"The point is in Quadrant 4.\")\n"
      ],
      "metadata": {
        "colab": {
          "base_uri": "https://localhost:8080/"
        },
        "id": "e-TxF9DMVXVu",
        "outputId": "fae835d6-4a03-4fe9-d422-4c75ae684cd4"
      },
      "execution_count": null,
      "outputs": [
        {
          "output_type": "stream",
          "name": "stdout",
          "text": [
            "Enter x-coordinate: 10\n",
            "Enter y-coordinate: 20\n",
            "The point is in Quadrant I.\n"
          ]
        }
      ]
    },
    {
      "cell_type": "code",
      "source": [
        "# 19.Simulate a basic ATM transaction check pin, show balance, allow widrawl is sufficient\n",
        "\n",
        "pin = '1111'\n",
        "balance = 10000\n",
        "\n",
        "enter_pin = input(\"Enter ATM Pin \")\n",
        "\n",
        "if enter_pin == pin:\n",
        "    print(balance)\n",
        "\n",
        "    widraw1 = float(input(\"Enter amount to withdraw: ₹\"))\n",
        "\n",
        "    if widraw1 <= balance:\n",
        "        balance -= widraw1\n",
        "        print(\"balance is \", balance)\n",
        "    else:\n",
        "        print(\"Insufficient balance.\")\n",
        "else:\n",
        "    print(\"Incorrect Pin.\")\n",
        "\n",
        "\n",
        "\n"
      ],
      "metadata": {
        "colab": {
          "base_uri": "https://localhost:8080/"
        },
        "id": "dBxwEfJjV9or",
        "outputId": "2b521857-bbfa-46ce-f3e0-3cedef41dd2d"
      },
      "execution_count": null,
      "outputs": [
        {
          "output_type": "stream",
          "name": "stdout",
          "text": [
            "Enter ATM Pin 1111\n",
            "10000\n",
            "Enter amount to withdraw: ₹1000\n",
            "balance is  9000.0\n"
          ]
        }
      ]
    },
    {
      "cell_type": "code",
      "source": [
        "# 20. Write a program to check if a number is prime or not using conditional logic(without loop)\n",
        "\n",
        "num = int(input(\"Enter a number: \"))\n",
        "\n",
        "if num <= 1:\n",
        "    print(num, \"not prime\")\n",
        "elif num == 2 or num == 3 or num == 5 or num == 7:\n",
        "    print(num, \"prime\")\n",
        "elif num % 2 == 0 or num % 3 == 0 or num % 5 == 0 or num % 7 == 0:\n",
        "    print(num, \"prime\")\n",
        "else:\n",
        "    print(num, \"prime\")\n"
      ],
      "metadata": {
        "colab": {
          "base_uri": "https://localhost:8080/"
        },
        "id": "Ftu4Vx0gbmpO",
        "outputId": "87c01b29-1edc-4e1e-c239-d530cbebbdb6"
      },
      "execution_count": null,
      "outputs": [
        {
          "output_type": "stream",
          "name": "stdout",
          "text": [
            "Enter a number: 7\n",
            "7 prime\n"
          ]
        }
      ]
    }
  ]
}