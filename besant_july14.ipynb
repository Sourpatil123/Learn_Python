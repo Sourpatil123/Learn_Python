{
  "nbformat": 4,
  "nbformat_minor": 0,
  "metadata": {
    "colab": {
      "provenance": [],
      "authorship_tag": "ABX9TyOoxifAwpL5IknbsUoeUKmy",
      "include_colab_link": true
    },
    "kernelspec": {
      "name": "python3",
      "display_name": "Python 3"
    },
    "language_info": {
      "name": "python"
    }
  },
  "cells": [
    {
      "cell_type": "markdown",
      "metadata": {
        "id": "view-in-github",
        "colab_type": "text"
      },
      "source": [
        "<a href=\"https://colab.research.google.com/github/Sourpatil123/Learn_Python/blob/main/besant_july14.ipynb\" target=\"_parent\"><img src=\"https://colab.research.google.com/assets/colab-badge.svg\" alt=\"Open In Colab\"/></a>"
      ]
    },
    {
      "cell_type": "code",
      "execution_count": null,
      "metadata": {
        "id": "1sx8hkw8rqbR"
      },
      "outputs": [],
      "source": [
        "# Python is high level langauge, easy to read programming langauge.\n",
        "#It is used in data science, ML, web development, automation.\n",
        "#Why use python\n",
        "#simple syntax\n",
        "#huge cummunity support\n",
        "#huge library"
      ]
    },
    {
      "cell_type": "code",
      "source": [
        "#Comments - its line of instruction to understand the flow of code its a part code but it execute in the time of execution.\n",
        "#Types\n",
        "#single line(#)\n",
        "#Multiline"
      ],
      "metadata": {
        "id": "wBLyzNJisf_y"
      },
      "execution_count": null,
      "outputs": []
    },
    {
      "cell_type": "code",
      "source": [
        "#Keywords - they are reserved words that have special meaning and cannot be names function names or identifiers\n",
        "#Ex - true, false, as and , def,from,for,in,if,is,not,class,not,continue,del,return etc."
      ],
      "metadata": {
        "id": "pYYsep6Ns0LW"
      },
      "execution_count": null,
      "outputs": []
    },
    {
      "cell_type": "code",
      "source": [
        "#Input and Output statements\n",
        "#input() for i/p\n",
        "#print() for o/p\n",
        "#Ex-"
      ],
      "metadata": {
        "id": "Q9_zomaPtWc6"
      },
      "execution_count": null,
      "outputs": []
    },
    {
      "cell_type": "code",
      "source": [
        "name = input(\"enter your name\")\n",
        "age = int(input(\"enter your age\"))\n",
        "print(\"i am \", name, \"and my age is \", age)"
      ],
      "metadata": {
        "colab": {
          "base_uri": "https://localhost:8080/"
        },
        "id": "rrS5o7jPtkKM",
        "outputId": "1406432d-0062-4e92-ac94-39c7a3f5867b"
      },
      "execution_count": null,
      "outputs": [
        {
          "output_type": "stream",
          "name": "stdout",
          "text": [
            "enter your namesour\n",
            "enter your age25\n",
            "i am  sour and my age is  25\n"
          ]
        }
      ]
    },
    {
      "cell_type": "code",
      "source": [
        "type(age)"
      ],
      "metadata": {
        "colab": {
          "base_uri": "https://localhost:8080/"
        },
        "id": "yqZVnUupuCoo",
        "outputId": "79796d10-c31f-4e5d-d91f-65c0f9243300"
      },
      "execution_count": null,
      "outputs": [
        {
          "output_type": "execute_result",
          "data": {
            "text/plain": [
              "int"
            ]
          },
          "metadata": {},
          "execution_count": 3
        }
      ]
    },
    {
      "cell_type": "code",
      "source": [
        "type(name)"
      ],
      "metadata": {
        "colab": {
          "base_uri": "https://localhost:8080/"
        },
        "id": "OqH4ybnwuIEB",
        "outputId": "d0d6812e-d383-4e51-8d5b-4ecff3a03050"
      },
      "execution_count": null,
      "outputs": [
        {
          "output_type": "execute_result",
          "data": {
            "text/plain": [
              "str"
            ]
          },
          "metadata": {},
          "execution_count": 4
        }
      ]
    },
    {
      "cell_type": "code",
      "source": [
        "#Printing Method\n",
        "# 1. print() - used to display o/p text, numbers or values on the same screen\n",
        "print(\"sour\")"
      ],
      "metadata": {
        "colab": {
          "base_uri": "https://localhost:8080/"
        },
        "id": "atJCnYdquKy_",
        "outputId": "3cbc8e41-f4ca-4f73-d345-90920288170c"
      },
      "execution_count": null,
      "outputs": [
        {
          "output_type": "stream",
          "name": "stdout",
          "text": [
            "sour\n"
          ]
        }
      ]
    },
    {
      "cell_type": "code",
      "source": [
        "print(2+3)"
      ],
      "metadata": {
        "colab": {
          "base_uri": "https://localhost:8080/"
        },
        "id": "Xugo0AI3uhCq",
        "outputId": "f835ef4a-692f-4ba9-dbf7-e851b38fcbbd"
      },
      "execution_count": null,
      "outputs": [
        {
          "output_type": "stream",
          "name": "stdout",
          "text": [
            "5\n"
          ]
        }
      ]
    },
    {
      "cell_type": "code",
      "source": [
        "name = \"sour\"\n",
        "print(name)"
      ],
      "metadata": {
        "colab": {
          "base_uri": "https://localhost:8080/"
        },
        "id": "_aemH4GAulL9",
        "outputId": "a8e26f02-4337-4ed4-823d-b33d847d5197"
      },
      "execution_count": null,
      "outputs": [
        {
          "output_type": "stream",
          "name": "stdout",
          "text": [
            "sour\n"
          ]
        }
      ]
    },
    {
      "cell_type": "code",
      "source": [
        "#end with something other than newline\n",
        "# print(\"hello\", end = \" \")\n",
        "#print(Hello)\n",
        "\n",
        "#seperator between values\n",
        "print(\"A\", \"B\", \"C\", sep=\"-\")"
      ],
      "metadata": {
        "colab": {
          "base_uri": "https://localhost:8080/"
        },
        "id": "lxHKK70QusNr",
        "outputId": "37df2d3c-3e3e-42d8-e59e-ccdca968c91d"
      },
      "execution_count": null,
      "outputs": [
        {
          "output_type": "stream",
          "name": "stdout",
          "text": [
            "A-B-C\n"
          ]
        }
      ]
    },
    {
      "cell_type": "code",
      "source": [
        "# .format\n",
        "#print(: my name is {} and my age is {}.format(name, age))\n",
        "\n",
        "#2. f string\n",
        "#print(f \" i am {name} and my age is {age}\")"
      ],
      "metadata": {
        "id": "QMsWckznvJV_"
      },
      "execution_count": null,
      "outputs": []
    },
    {
      "cell_type": "code",
      "source": [
        "#WAPTF basic methemetical operation on two numbers\n",
        "a = int(input(\"enter first\"))\n",
        "b = int(input(\"enter second\"))\n",
        "c = int(input(\"enter third\"))\n",
        "print(\"Sum of a,b and c is \", a+b+c)"
      ],
      "metadata": {
        "colab": {
          "base_uri": "https://localhost:8080/"
        },
        "id": "mzkU8SJyvpxw",
        "outputId": "5daca345-43dc-4c90-857c-0da3d3ab08ee"
      },
      "execution_count": null,
      "outputs": [
        {
          "output_type": "stream",
          "name": "stdout",
          "text": [
            "enter first10\n",
            "enter second20\n",
            "enter third30\n",
            "Sum of a,b and c is  60\n"
          ]
        }
      ]
    }
  ]
}